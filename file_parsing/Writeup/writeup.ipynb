{
 "cells": [
  {
   "cell_type": "markdown",
   "metadata": {},
   "source": [
    "# Data Processing Write-up"
   ]
  },
  {
   "cell_type": "markdown",
   "metadata": {},
   "source": [
    "## Abstract"
   ]
  },
  {
   "cell_type": "markdown",
   "metadata": {},
   "source": [
    "The dark web is notoriously difficult to crawl. The Hidden Services directory, which users use to find hidden services, stores hashes of domains to prevent enumeration. Enthusiasts have taken steps to make the dark web more well-known, whether it is through status sites or just posting news regarding the dark web. The process to do so often requires manual enumeration of dark web sites to determine what service they offer and how to access it. Most of the sites availble focus on the markets of the dark web, nor are generally safe if you utilize anti-virus. This project aims to create a dark web crawler to automate the process of finding hidden service URLs on the clear web, and have the results accessible on the clear web. This was done utilizing the Python programming language to parse the Common Crawl Corpus for dark web domains, connect to each domain, and display the results on a Flask app that everyone can access. The efforts outlined in this paper focuse on the big data analysis portion and performing a basic analysis of the top 10 most frequently discovered domains. From the Common Crawl Corpus (for the month of September) 40,239 unique dark web domains were discovered accross 6443 clear web domains. Future work is needed to enable automatic classification of each dark web site."
   ]
  },
  {
   "cell_type": "markdown",
   "metadata": {},
   "source": [
    "## Introduction\n",
    "Public awareness of the dark web has risen the past few years with the take down of the Silkroad market by the FBI and the rise in ransomware attacks. Hidden services, the web sites hosted on the dark web, are not highly connected through hyperlinks like sites on the clearweb, reducing the ability of a user to index the dark web. These services do not use typical Domain Name Service (DNS) resolution; instead a hash of the machine is used in place of the domain name that a user must know to access the service. This hash is typically found either via fellow dark web users or via certain sites on the clear web. \n",
    "A hidden service is often denoted with a .onion top level domain, provided by The Onion Router (TOR) project. To access a service you have to use the TOR browser and have the hash of said hidden service. As previously stated these hashes could be discovered on typical clear web sites such as Reddit or on dark web-oriented sites such as darknetstats.com or deeponionweb.com. It is usually tedious and sometimes unsafe to manually search the clear web for onions, as some of the sites (i.e. darknetstats.com) raise alerts with anti-virus. A safer method would be to use open-sourced data to search for hidden services and try to rank clear web sites by the amount of unique dark web domains found on each one."
   ]
  },
  {
   "cell_type": "markdown",
   "metadata": {},
   "source": [
    "## Technologies\n",
    "To begin, we first sought to find a safe method to gather data on the clear web, without having to crawl it ourselves. The Common Crawl organization each month runs a crawler to index the clear web. The organization then saves their findings to compressed warc.wet files. Each file contains multiple indexed websites along with the content that is hosted on them. The warc.wet files were optimal as they were not only smaller than the .wet files, but they also provided only the plaintext extracted from the source code, which removed the concern that the script will have to filter out HTML code which would increase the speed and size of the script. These files have the specified format outlined in Figure 1.\n",
    "![](Final_Images/cc_format.png)\n",
    "*__Figure 1__: Common Crawl file format*\n",
    "\n",
    "\n",
    "The Common Crawl corpus is hosted via Amazon Web Services (AWS), thus we had to download the scripts utilizing wget. The corpus we used was from September of 2019, keep in mind the goals of this project was being developed in late 2019, but waited until the start of the second semester to begin in full swing. All of the common crawl files were saved to a Linux cluster owned by Major (MAJ) Daniel Hawthorne. For this project, the cluster allocated 8 GB RAM, 10 TB of storage, and 8 threads. All of the files summed up to 8.9 TB in total, leaving 1.1 TB left for anything we need. The programming language that we decided to use was Python. This was due to the extensive library it provided and that it was the only programming language I was comfortable with. The last piece of technology that was utilized was Aquamentus. Aquamentus is Linux computer system that features: 14 TB Solid State Drive (SSD), 128 GB RAM, and 32 threads. This is another system built and owned by MAJ Hawthorne that run the final scripts against the common crawl files. "
   ]
  },
  {
   "cell_type": "markdown",
   "metadata": {},
   "source": [
    "## Methodology\n",
    "The methodology to process the data first begins with the Common Crawl. The Common Crawl crawls the web each month and saves the results to a GZipped Warc-Wet file. The python script will query the common crawl for the monthly data and save it to the local machine. Once all of he files are saved, the script will open the number of processors relative to  the available RAM on the machine. The script will determine how many files need to be parsed, and allocate an even amount to each processor. Next it will open the file and search for dark web sites utilizing a regular expression. Once a dark web site is found the site along with the clear web site it was found on are written to a CSV. The CSV has the name of the corresponding file that is open to help track sites. Once the script is finished parsing each file, another script starts up where it combines all the CSVs into one dump file. The script will then count the unique dark web and clear web sites and output them to two separate CSVs for analysis. The following will be described in the next few paragraphs: development of the regular expression, onion finder script, and the counter script."
   ]
  },
  {
   "cell_type": "markdown",
   "metadata": {},
   "source": [
    "## Regular Expression Development\n",
    "1. (?:https?\\:\\/\\/)?[a-zA-Z2-7]{16}\\.onion?(?:\\/([^/]*))?$ (Intitial)\n",
    "2. (?:https?\\:\\/\\/)?[a-zA-Z2-7]{16}\\.onion?(?:\\/([^/\\s]*))? (Accounts for whitepsace)\n",
    "3. [a-zA-Z2-7]{16}\\.onion?(?:\\/([^/ \\s]*))? (No longer searches for www, htttp, https)\n",
    "4. [a-zA-Z2-7]{16}\\.onion?(?:\\/([^/ \\\\\\s]*))? (Attempt to remove \\r \\n \\t characters)\n",
    "    a. Started to compile regex once to improve performance\n",
    "5. [a-zA-Z2-7]{16}|[a-zA-Z2-7]{56})\\.onion?(?:\\/([^/ \\\\\\s]*))? (Searches for v2 and v3 onions) (FINAL: NO LONGER SUCKS!! :))"
   ]
  },
  {
   "cell_type": "markdown",
   "metadata": {},
   "source": [
    "## Onion Finder Development\n",
    "The onion finder script focused on parsing each common crawl file for darkweb domains and recording the clearweb site it was discovered on. The first task that needed to be accomplished was development of the regular expression (regex). The regular expression had to match strings with the specifications of a valid onion domain. According to specifications from the TOR project, a valid onion is 16 characters in length that is comprised of any letter and number from 2 until 7. Since we wanted to extract the complete onion address the initial regular expression was: \n",
    "\n",
    "(?:https?://)?[a-zA-Z2-7]{16}.onion?(?:/([^/]*))?$\n",
    "\n",
    "To validate that this expression worked, it was inputted into the online regex tester at https://regex101.com along with randomly generated valid and invaid onion domains that meet the specifications. The result from this test showed that the regex would find the onion domain and take everything that occurred after the domain, including spaces. This would skew results as it would return the rest of the file once it found a domain in the common crawl. To remediate the error, the regex was updated to account for whitespace:\n",
    "\n",
    "(?:https?://)?[a-zA-Z2-7]{16}.onion?(?:/([^/\\s]*))?\n",
    "\n",
    "The patch was verified with the online regex tester, however running the regex on a local file, the regex extracted various string literals such as tab and return characters. We also determined that it was unecessary to check for the protocol (HTTP/HTTPS) or www in the URL for the following reasons: 1/TOR only uses HTTPS by default so checking for the protocol is pointless. 2/ onions cannot be accessed from the clear web, so www will only generate errors when connecting to the service. With these two new determinations, the regex was shortened to:\n",
    "\n",
    "[a-zA-Z2-7]{16}.onion?(?:/([^/ \\\\s]*))?\n",
    "\n",
    "The final regex came after the discovery that TOR plans to start implementing what it called v3 onions. v3 onions use a longer hash length of 56 to not only improve security but to expand the space available on the dark web. We originally only checked for v2 onions that were 16 characters long. As such we once again updated the regex to its final form:\n",
    "\n",
    "[a-zA-Z2-7]{16}|[a-zA-Z2-7]{56}).onion?(?:/([^/ \\\\s]*))?\n",
    "\n",
    "the next step was to develop the script itself. Initial success was with the warc3-wet library written by William Zhang. This library while simple to use was not efficient in terms of speed. For the seven test files utilized on a local machine, it took the script 189 seconds to complete. This did not seem too bad, however once the calculations were done to estimate the time it would take to parse through 55985 files, it would have taken approximately 17.5 days for the script to run. Since this was the initial test phase, this was run on the cluster hosted by MAJ Hawthorne where it did in fact take 2.5 weeks. From that run, 5400 unique dark web domains were discovered accross 5689 clear web sites. After this, the common crawl files were transferred over to Aquamentus for further testing. To verify the accuracy of the script, Mr. King ran a Ruby script which utlized the Java file stream library. With his script, he found 39,838 unique dark web sites over 6,393 clear web domains. Confused as to why his script found substantially more than mine did. After reviewing the code I believe the culprit to be the re.search method. Attempts were made to modify the script to use re.findall, however for some reason failed to capture the full string. A quick review of Python's documentation lead to my discovery that re.search returns only the first instance, so it was not even completely parsing each file. To remidiate this, I ended up creating a separate function that generates dark web domains with the regular expression, instead of just calling it on the content itself.\n",
    "\n",
    "Running the script again on my local files, it did find substantially more dark web sites but still took unecessarily long to do so. A review of the warc library showed that it was written with an emphasis on ease of use and not speed. Searching Google, I learned that Common Crawl files could be read usnig the gzip and io libraries, both of which are native to python. These libraries fed provided data line-by-line, which eliminated the need for the generator function. Re-writing the script this way decreased the time it took to parse the 7 files from 189 seconds down to 98 seconds. At 16 processors, this equated to approximately 9 days. See Figure 2 for the speed test results. At this time, we were ready to run the script on Aquamentus."
   ]
  },
  {
   "cell_type": "code",
   "execution_count": 13,
   "metadata": {},
   "outputs": [
    {
     "data": {
      "image/png": "[encoded data removed]",
      "text/plain": [
       "<Figure size 432x288 with 1 Axes>"
      ]
     },
     "metadata": {
      "needs_background": "light"
     },
     "output_type": "display_data"
    }
   ],
   "source": [
    "import matplotlib.pyplot as plt\n",
    "wmp = 189\n",
    "wnmp = 749\n",
    "nmp = 98\n",
    "nnmp = 396\n",
    "plt.bar(\"WARC (No MP)\", wnmp, color='red')\n",
    "plt.bar(\"Native (No MP)\", nnmp, color='orange')\n",
    "plt.bar(\"WARC\", wmp, color='green')\n",
    "plt.bar(\"Native\", nmp, color='blue')\n",
    "plt.xlabel('Script')\n",
    "plt.ylabel('Average time in Seconds')\n",
    "plt.title('Speed Tests (7 files with 16 threads)')\n",
    "plt.show()"
   ]
  },
  {
   "cell_type": "markdown",
   "metadata": {},
   "source": [
    "*__Figure 2__: Speed Tests*\n"
   ]
  },
  {
   "cell_type": "markdown",
   "metadata": {},
   "source": [
    "## Counter development\n",
    "\n",
    "Development of the counters did nor require as much troubleshooting as the onion finder did. The initial thought process was to pull the onions and websites from each CSV into another CSV. In that CSV the counts from each individual CSV were compiled; next the script opned that file and took any duplicate domain and its associated count and combined them. This removed all duplicates from the file but preserved the counts. The script then went through and sorted each domain by its count. The process was then repeated for the clear web sites. The method was not pretty, but got the job done. After further research and with help from Mr. King, the script was drastically minimized. This was done by forcing the script to compile all the CSVs into one dump file. The script will then use the pandas library to identify and remove duplicate domains and combine their counts. It then sorted the domains and saved the results to a another CSV."
   ]
  },
  {
   "cell_type": "markdown",
   "metadata": {},
   "source": [
    "### Results\n",
    "\n",
    "The scripts ran on Aquamentus for approximatley 4 days. From the September Common Crawl Corpus, 40239 unique onion doains were discovered accross 6443 unique clear web sites. This was a 348% increase from the very first run with provided 5400 domains, and a 4% increase from the script Mr. King ran. This was likely due to my script checking the URL itself for onions as well as the extracted content. Out of the 40239 unique domains, 32966 were v2 domains and 7273 were v3 domains. TOR maintains a metric counting the amount of unique v2 domains on their network. The month of September had approximatley 75000 active domains. This means we found about 44% of the active domains that were active (See Figure 3 for a visualized comparison). "
   ]
  },
  {
   "cell_type": "code",
   "execution_count": 7,
   "metadata": {
    "scrolled": true
   },
   "outputs": [
    {
     "data": {
      "image/png": "[encoded data removed]",
      "text/plain": [
       "<Figure size 432x288 with 1 Axes>"
      ]
     },
     "metadata": {
      "needs_background": "light"
     },
     "output_type": "display_data"
    }
   ],
   "source": [
    "import matplotlib.pyplot as plt\n",
    "usma = 32966\n",
    "tor = 75000\n",
    "plt.bar(\"USMA\", usma, color='g')\n",
    "plt.bar(\"TOR\", tor, color='orange')\n",
    "plt.xlabel('Group')\n",
    "plt.ylabel('# of v2 onions')\n",
    "plt.title('V2 Comparison')\n",
    "plt.show()"
   ]
  },
  {
   "cell_type": "markdown",
   "metadata": {},
   "source": [
    "*__Figure 3__: Visual comparison*\n",
    "\n",
    "From the CSV that provided the counts, the top ten onion domains were: \n",
    "\n",
    "1.\thydraruzxpnew4af.onion\n",
    "2.\tfacebookcorewwwi.onion\n",
    "3.\thydraruz4afxpnew.onion\n",
    "4.\t3g2upl4pq6kufc4m.onion\n",
    "5.\tprobiv7jg46vmbox.onion\n",
    "6.\twayawaytcl3k66fl.onion\n",
    "7.\tuj3wazyk5u4hnvtk.onion\n",
    "8.\thydra5etioavaz7p.onion\n",
    "9.\txmh57jrzrnw6insl.onion\n"
   ]
  },
  {
   "cell_type": "markdown",
   "metadata": {},
   "source": [
    "## Dark Web Rudimentary Analysis\n"
   ]
  },
  {
   "cell_type": "markdown",
   "metadata": {},
   "source": [
    "Analyzing the top ten site involved navigating to the domain, interacting with the site, and querying google for extra information. This was done by utlizing a virutal machine (VM) with the Whonix OS. Whonix is a Linux distribution that focuses on anonymizing all of your web traffic and providing maximum security. This OS is safer when connecting to unknown onion sites due to its ability to 'sandbox' all applications, so should malware be installed it will be unable to determine the IP address of the host system.\n",
    "\n",
    "Out of the ten domains, three failed to connect after multiple attempts, one was classified as adware, and the remaining six were sites for illegal activities. the following figures are screenshots of what each domain returned along with a short description."
   ]
  },
  {
   "cell_type": "markdown",
   "metadata": {},
   "source": [
    "### hydraruzxpnew4af.onion, hydra5etioavaz7p.onion, hydra6c2bnrd6phf.onion\n",
    "![](Final_Images/hydraetio.png)\n",
    "![](Final_Images/hydraref.png)\n",
    "\n",
    "*__Figure 4__: Hydra market*\n",
    "\n",
    "\n",
    "Hydra is a the top Russian marketplace on the darknet and very famous amount Russian speaking community. Hydra opened in 2015, providing a marketplace for illegal goods such as drugs and their ingredients, counterfeit documents and money, and hacking services. There is a reference at the bottom of each page, listing out the 7 active Hydra domains. There may be 7 as a remediation effort to keep their services up, should law enforcement seize the domain or should a hacker destroy it."
   ]
  },
  {
   "cell_type": "markdown",
   "metadata": {},
   "source": [
    "### facebookcorewwwi.onion\n",
    "![](Final_Images/fb.png)\n",
    "\n",
    "*__Figure 5__: First failure*\n",
    "\n",
    "This is the dark web site for the Facebook. Has the same functionality as the clear web version, except all your traffic is encrypted."
   ]
  },
  {
   "cell_type": "markdown",
   "metadata": {},
   "source": [
    "### hydraruz4afxpnew.onion\n",
    "![](Final_Images/hydraruz4af.png)\n",
    "\n",
    "*__Figure 6__: First failure*\n",
    "\n",
    "This dark web address provides a connection error. This could be due to one of three things: it does not exist, does not run on port 80, exists but is currently offline."
   ]
  },
  {
   "cell_type": "markdown",
   "metadata": {},
   "source": [
    "### 3g2upl4pq6kufc4m.onion\n",
    "![](Final_Images/3g2.png)\n",
    "\n",
    "*__Figure 7__: DuckDuckGo*\n",
    "\n",
    "This is the dark web site for the DuckDuckGo search engine. Has the same functionality as the clear web version, except all your traffic is encrypted."
   ]
  },
  {
   "cell_type": "markdown",
   "metadata": {},
   "source": [
    "### probiv7jg46vmbox.onion\n",
    "![](Final_Images/probiv.png)\n",
    "\n",
    "*__Figure 8__: Probiv*\n",
    "\n",
    "Probiv is a Russian-language slang term best translated as “look-up”. This dark web domain focuses on the distribution of personally identifiable information (PII) for a price. Primary users are criminals and private investigators."
   ]
  },
  {
   "cell_type": "markdown",
   "metadata": {},
   "source": [
    "### wayawaytcl3k66fl.onion\n",
    "![](Final_Images/wayaway.png)\n",
    "\n",
    "*__Figure 9__: Second failure*\n",
    "\n",
    "This dark web address provides a connection error. This could be due to one of three things: it does not exist, does not run on port 80, exists but is currently offline."
   ]
  },
  {
   "cell_type": "markdown",
   "metadata": {},
   "source": [
    "### uj3wazyk5u4hnvtk.onion\n",
    "![](Final_Images/uj3.png)\n",
    "\n",
    "*__Figure 10__: Third failure*\n",
    "\n",
    "This dark web address provides a connection error. This could be due to one of three things: it does not exist, does not run on port 80, exists but is currently offline."
   ]
  },
  {
   "cell_type": "markdown",
   "metadata": {},
   "source": [
    "### xmh57jrzrnw6insl.onion\n",
    "![](Final_Images/xmh.png)\n",
    "\n",
    "*__Figure 11__: TORCH*\n",
    "\n",
    "Torch or TorSearch is at search engine for the dark web. They claim to be the best, oldest, and longest running search engine for the dark web. This search engine is only available at the dark web address above and via the TOR browser're also the oldest and longest running search engine on Tor. This site is also classified as adware."
   ]
  },
  {
   "cell_type": "markdown",
   "metadata": {},
   "source": [
    "## Acknlowedgements\n",
    "\n",
    "* Mr. Kyle King (NSA)\n",
    "* MAJ Daniel Hawthorne (U.S. Army)"
   ]
  },
  {
   "cell_type": "markdown",
   "metadata": {},
   "source": [
    "# Not sure how/if these are necessary. This was an attempt at a timeline of code development. May just remove it and link to the github."
   ]
  },
  {
   "cell_type": "markdown",
   "metadata": {},
   "source": [
    "#### Python libraries that were initially used"
   ]
  },
  {
   "cell_type": "code",
   "execution_count": null,
   "metadata": {},
   "outputs": [],
   "source": [
    "import re # Regular expression library\n",
    "import warc # warc3-wet. To read common crawl files.\n",
    "import csv # Output and input format\n",
    "from glob import glob # To find all files in specified directory\n",
    "from multiprocessing import Pool, cpu_count # To utilize multiple processors to speed up the script\n",
    "from subprocess import Popen, PIPE # Make the script universal\n",
    "from sys import platform # Determine system\n",
    "from os.path import splitext # Used in tracking"
   ]
  },
  {
   "cell_type": "markdown",
   "metadata": {},
   "source": [
    "##### Regex compile"
   ]
  },
  {
   "cell_type": "code",
   "execution_count": null,
   "metadata": {},
   "outputs": [],
   "source": [
    "# Regex for onions \n",
    "# onion_regex = r'([a-zA-Z2-7]{16}|[a-zA-Z2-7]{56})\\.onion?(?:\\/([^/ \\\\\\s]*))?'\n",
    "onion_regex = r'(?:[a-zA-Z2-7]{16}|[a-zA-Z2-7]{56})\\.onion'\n",
    "onion = re.compile(onion_regex, re.IGNORECASE)"
   ]
  },
  {
   "cell_type": "markdown",
   "metadata": {},
   "source": [
    "#### Determine number of processors"
   ]
  },
  {
   "cell_type": "code",
   "execution_count": null,
   "metadata": {},
   "outputs": [],
   "source": [
    "# Determine OS and number of processes to use\n",
    "def os_processes():\n",
    "    MAX_PROCESSES = 0\n",
    "    if platform == \"linux\" or platform == \"linux2\":\n",
    "        # linux\n",
    "        bashCommand = \"nproc\"\n",
    "        process = Popen(bashCommand.split(), stdout=PIPE)\n",
    "        output, error = process.communicate()\n",
    "        MAX_PROCESSES = int(output.decode().strip())\n",
    "    elif platform == \"darwin\":\n",
    "        # OS X\n",
    "        bashCommand = \"nproc\"\n",
    "        process = Popen(bashCommand.split(), stdout=PIPE)\n",
    "        output, error = process.communicate()\n",
    "        MAX_PROCESSES = int(output.decode().strip())\n",
    "    elif platform == \"win32\":\n",
    "        # Windows\n",
    "        MAX_PROCESSES = cpu_count()\n",
    "    return MAX_PROCESSES"
   ]
  },
  {
   "cell_type": "markdown",
   "metadata": {},
   "source": [
    "### Attempt 1 (initial)"
   ]
  },
  {
   "cell_type": "markdown",
   "metadata": {},
   "source": [
    "#### Find Onions"
   ]
  },
  {
   "cell_type": "code",
   "execution_count": null,
   "metadata": {},
   "outputs": [],
   "source": [
    "# Find onions in data\n",
    "def find_onions(filename):\n",
    "    global onion\n",
    "    with warc.open(filename) as f:\n",
    "        with open(\"{}.csv\".format(filename.strip(\".warc.wet.gz\")), 'w', newline='') as output:\n",
    "            writer = csv.writer(output)\n",
    "            writer.writerow([\"Site\", \"Onion\"])\n",
    "            for record in f:\n",
    "                url = str(record.header.get('WARC-Target-URI', None))\n",
    "                data = str(record.payload.read())\n",
    "                url_match = re.search(onion, url)\n",
    "                payload_match = re.search(onion, data)\n",
    "                if url_match:\n",
    "                    onions = list(url_match)\n",
    "                    for o in onions:\n",
    "                        writer.writerow([url, o])\n",
    "                if payload_match:\n",
    "                    onions = list(payload_match)\n",
    "                    for o in onions:\n",
    "                        writer.writerow([url, o])"
   ]
  },
  {
   "cell_type": "markdown",
   "metadata": {},
   "source": [
    "### Attempt 2"
   ]
  },
  {
   "cell_type": "markdown",
   "metadata": {},
   "source": [
    "#### Generator"
   ]
  },
  {
   "cell_type": "code",
   "execution_count": null,
   "metadata": {},
   "outputs": [],
   "source": [
    "def findall(pattern, string):\n",
    "    while True:\n",
    "        match = re.search(pattern, string)\n",
    "        if not match:\n",
    "            break\n",
    "        yield match.group(0)\n",
    "        string = string[match.end():]"
   ]
  },
  {
   "cell_type": "markdown",
   "metadata": {},
   "source": [
    "#### Updated Find Onions"
   ]
  },
  {
   "cell_type": "code",
   "execution_count": null,
   "metadata": {},
   "outputs": [],
   "source": [
    "# Find onions in data\n",
    "def find_onions(filename):\n",
    "    global onion\n",
    "    with warc.open(filename) as f:\n",
    "        with open(\"{}.csv\".format(filename.strip(\".warc.wet.gz\")), 'w', newline='') as output:\n",
    "            writer = csv.writer(output)\n",
    "            writer.writerow([\"Site\", \"Onion\"])\n",
    "            for record in f:\n",
    "                url = str(record.header.get('WARC-Target-URI', None))\n",
    "                data = str(record.payload.read())\n",
    "                url_match = findall(onion, url)\n",
    "                payload_match = findall(onion, data)\n",
    "                if url_match:\n",
    "                    onions = list(url_match)\n",
    "                    for o in onions:\n",
    "                        writer.writerow([url, o])\n",
    "                if payload_match:\n",
    "                    onions = list(payload_match)\n",
    "                    for o in onions:\n",
    "                        writer.writerow([url, o])"
   ]
  },
  {
   "cell_type": "markdown",
   "metadata": {},
   "source": [
    "### Attempt 3 (current)"
   ]
  },
  {
   "cell_type": "markdown",
   "metadata": {},
   "source": [
    "#### Updated libraries (warc removed)"
   ]
  },
  {
   "cell_type": "code",
   "execution_count": null,
   "metadata": {},
   "outputs": [],
   "source": [
    "import re # Regular expression library\n",
    "import gzip # Read the warc files\n",
    "import csv # Output and input format\n",
    "from io import BufferedReader # Speed improvement\n",
    "from glob import glob # To find all files in specified directory\n",
    "from multiprocessing import Pool, cpu_count # To utilize multiple processors to speed up the script\n",
    "from subprocess import Popen, PIPE # Make the script universal\n",
    "from sys import platform # Determine system\n",
    "from os.path import splitext # Used in tracking"
   ]
  },
  {
   "cell_type": "markdown",
   "metadata": {},
   "source": [
    "#### Final find onions"
   ]
  },
  {
   "cell_type": "code",
   "execution_count": null,
   "metadata": {},
   "outputs": [],
   "source": [
    "# Find onions in data\n",
    "def find_onions(filename):\n",
    "    global onion\n",
    "    gz = gzip.open(filename, 'rb')\n",
    "    f = BufferedReader(gz)\n",
    "    clear = ''\n",
    "    with open(\"{}.csv\".format(filename.strip(\".warc.wet.gz\")), 'w', newline='') as output:\n",
    "        writer = csv.writer(output)\n",
    "        for line in f:\n",
    "            url = re.search(r'WARC-Target-URI: (.+)\\r\\n', line.decode('utf8'))\n",
    "            if url:\n",
    "                clear = url\n",
    "            domain = re.search(onion, line.decode('utf8'))\n",
    "            if domain:\n",
    "                writer.writerow([domain.group(0), clear.group(1)])\n",
    "    gz.close()"
   ]
  },
  {
   "cell_type": "markdown",
   "metadata": {},
   "source": [
    "### Main script"
   ]
  },
  {
   "cell_type": "code",
   "execution_count": null,
   "metadata": {},
   "outputs": [],
   "source": [
    "if __name__ == \"__main__\":\n",
    "    files = glob(\"*.warc.wet.gz\")\n",
    "    completed = glob(\"*.csv\")\n",
    "    completed = [splitext(c)[0] for c in completed]\n",
    "    if completed:\n",
    "        files = [f for f in files if f.strip(\".warc.wet.gz\") not in completed]\n",
    "    if len(files) == 0:\n",
    "        print(\"All Common Crawl Files have been searched!\")\n",
    "    else:\n",
    "        processors = os_processes()\n",
    "        print(\"Searching for onions.........\")\n",
    "        pool = Pool(processors)\n",
    "        pool.map(find_onions, files)\n",
    "        pool.close()"
   ]
  },
  {
   "cell_type": "markdown",
   "metadata": {},
   "source": [
    "### Final onion_finder.py"
   ]
  },
  {
   "cell_type": "code",
   "execution_count": null,
   "metadata": {},
   "outputs": [],
   "source": [
    "import re # Regular expression library\n",
    "import gzip # Read the warc files\n",
    "import csv # Output and input format\n",
    "from io import BufferedReader # Speed improvement\n",
    "from glob import glob # To find all files in specified directory\n",
    "from multiprocessing import Pool, cpu_count # To utilize multiple processors to speed up the script\n",
    "from subprocess import Popen, PIPE # Make the script universal\n",
    "from sys import platform # Determine system\n",
    "from os.path import splitext # Used in tracking\n",
    "\n",
    "# Regex for onions \n",
    "# onion_regex = r'(?:https?\\:\\/\\/)?[a-zA-Z2-7]{16}\\.onion?(?:\\/([^/]*))?'\n",
    "onion_regex = r'(?:[a-zA-Z2-7]{16}|[a-zA-Z2-7]{56})\\.onion'\n",
    "onion = re.compile(onion_regex, re.IGNORECASE)\n",
    "\n",
    "# Determine OS and number of processes to use\n",
    "def os_processes():\n",
    "    MAX_PROCESSES = 0\n",
    "    if platform == \"linux\" or platform == \"linux2\":\n",
    "        # linux\n",
    "        bashCommand = \"nproc\"\n",
    "        process = Popen(bashCommand.split(), stdout=PIPE)\n",
    "        output, error = process.communicate()\n",
    "        MAX_PROCESSES = int(output.decode().strip())\n",
    "    elif platform == \"darwin\":\n",
    "        # OS X\n",
    "        bashCommand = \"nproc\"\n",
    "        process = Popen(bashCommand.split(), stdout=PIPE)\n",
    "        output, error = process.communicate()\n",
    "        MAX_PROCESSES = int(output.decode().strip())\n",
    "    elif platform == \"win32\":\n",
    "        # Windows\n",
    "        MAX_PROCESSES = cpu_count()\n",
    "    return MAX_PROCESSES\n",
    "\n",
    "# Find onions in data\n",
    "def find_onions(filename):\n",
    "    global onion\n",
    "    gz = gzip.open(filename, 'rb')\n",
    "    f = BufferedReader(gz)\n",
    "    clear = ''\n",
    "    with open(\"{}.csv\".format(filename.strip(\".warc.wet.gz\")), 'w', newline='') as output:\n",
    "        writer = csv.writer(output)\n",
    "        for line in f:\n",
    "            url = re.search(r'WARC-Target-URI: (.+)\\r\\n', line.decode('utf8'))\n",
    "            if url:\n",
    "                clear = url\n",
    "            domain = re.search(onion, line.decode('utf8'))\n",
    "            if domain:\n",
    "                writer.writerow([domain.group(0), clear.group(1)])\n",
    "    gz.close()\n",
    "\n",
    "if __name__ == \"__main__\":\n",
    "    files = glob(\"*.warc.wet.gz\")\n",
    "    completed = glob(\"*.csv\")\n",
    "    completed = [splitext(c)[0] for c in completed]\n",
    "    if completed:\n",
    "        files = [f for f in files if f.strip(\".warc.wet.gz\") not in completed]\n",
    "    if len(files) == 0:\n",
    "        print(\"All Common Crawl Files have been searched!\")\n",
    "    else:\n",
    "        processors = os_processes()\n",
    "        print(\"Searching for onions.........\")\n",
    "        pool = Pool(processors)\n",
    "        pool.map(find_onions, files)\n",
    "        pool.close()\n"
   ]
  },
  {
   "cell_type": "markdown",
   "metadata": {},
   "source": [
    "### Attempt 1 (initial)"
   ]
  },
  {
   "cell_type": "markdown",
   "metadata": {},
   "source": [
    "#### Onion Counter"
   ]
  },
  {
   "cell_type": "code",
   "execution_count": null,
   "metadata": {},
   "outputs": [],
   "source": [
    "import csv # Output and input format\n",
    "from urllib.parse import urlparse # Find domain\n",
    "from glob import glob # To find all files in specified directory\n",
    "from multiprocessing import Pool, cpu_count # To utilize multiple processors to speed up the script\n",
    "from subprocess import Popen, PIPE # Make the script universal\n",
    "from sys import platform # Determine system\n",
    "\n",
    "# Parse out domains onions were found on\n",
    "domain_regex = r'[a-zA-Z0-9][a-zA-Z0-9-]{1,}[a-zA-Z0-9](\\.[a-zA-Z]{2,})+'\n",
    "\n",
    "# Determine OS and number of processes to use\n",
    "def os_processes():\n",
    "    MAX_PROCESSES = 0\n",
    "    if platform == \"linux\" or platform == \"linux2\":\n",
    "        # linux\n",
    "        bashCommand = \"nproc\"\n",
    "        process = Popen(bashCommand.split(), stdout=PIPE)\n",
    "        output, error = process.communicate()\n",
    "        MAX_PROCESSES = int(output.decode().strip())\n",
    "    elif platform == \"darwin\":\n",
    "        # OS X\n",
    "        bashCommand = \"nproc\"\n",
    "        process = Popen(bashCommand.split(), stdout=PIPE)\n",
    "        output, error = process.communicate()\n",
    "        MAX_PROCESSES = int(output.decode().strip())\n",
    "    elif platform == \"win32\":\n",
    "        # Windows\n",
    "        MAX_PROCESSES = cpu_count()\n",
    "    return MAX_PROCESSES\n",
    "\n",
    "# Initial Counter\n",
    "def init_onions(filename):\n",
    "    file_onions = {}\n",
    "    with open(filename, 'r') as f:\n",
    "        reader = csv.reader(f, quotechar='\"', delimiter=',',\n",
    "                     quoting=csv.QUOTE_ALL, skipinitialspace=True)\n",
    "        next(reader)\n",
    "        with open(\"initial_counts.csv\", 'a+', newline='') as output:\n",
    "            writer = csv.writer(output)\n",
    "            for line in reader:\n",
    "                site = line[0]\n",
    "                onion_url = line[1]\n",
    "                onion = urlparse(\"http://\"+onion_url).netloc\n",
    "                file_onions.setdefault(onion, []).append(site)\n",
    "            for k,v in file_onions.items():\n",
    "                writer.writerow([k, len(v)])\n",
    "\n",
    "# Mid-Counter\n",
    "def mid_onions(filename):\n",
    "    init_mid_onions = []\n",
    "    domains = []\n",
    "    mid_onions = {}\n",
    "    with open(filename, 'r') as f:\n",
    "        reader = csv.reader(f)\n",
    "        with open(\"mid_counts.csv\", 'a+', newline='') as output:\n",
    "            writer = csv.writer(output)\n",
    "            for line in reader:\n",
    "                onion = line[0]\n",
    "                num = line[1]\n",
    "                if onion not in domains:\n",
    "                    domains.append(onion)\n",
    "                init_mid_onions.append([onion, num])\n",
    "            for d in domains:\n",
    "                count = 0\n",
    "                for p in init_mid_onions:\n",
    "                    if d == p[0]:\n",
    "                        count += int(p[1].rstrip())\n",
    "                    else:\n",
    "                        continue\n",
    "                mid_onions[d] = count\n",
    "            for k,v in mid_onions.items():\n",
    "                writer.writerow([k,v])\n",
    "\n",
    "# Final Counter\n",
    "def final_onions(filename):\n",
    "    sorted_onions = []\n",
    "    with open(filename, 'r') as f:\n",
    "        reader = csv.reader(f, delimiter=',')\n",
    "        sorted_onions = sorted(reader, key=lambda x: int(x[1]), reverse=True)\n",
    "        with open(\"final_counts.csv\", 'a+', newline='') as output:\n",
    "            writer = csv.writer(output)\n",
    "            # writer.writerow([\"Onion\", \"Frequency\"])\n",
    "            for x in sorted_onions:\n",
    "                writer.writerow([x[0], x[1]])\n",
    "\n",
    "\n",
    "# Create the search file\n",
    "def compile_onions():\n",
    "    sorted_onions = []\n",
    "    with open('final_counts.csv', 'r') as f:\n",
    "        with open(\"onions.csv\", 'a+') as output:\n",
    "            for line in f:\n",
    "                onion = line.split(',')[0]\n",
    "                output.write(\"{}\\n\".format(onion))\n",
    "\n",
    "if __name__ == \"__main__\":\n",
    "    files = glob(\"*.csv\")\n",
    "    processors = os_processes()\n",
    "    print(\"Initial Onion Count........\")\n",
    "    pool = Pool(processors)\n",
    "    pool.map(init_onions, files)\n",
    "    pool.close()\n",
    "    print(\"Mid Onion Count........\")\n",
    "    mid_onions('initial_counts.csv')\n",
    "    print(\"Final Onion Count........\")\n",
    "    final_onions('mid_counts.csv')\n",
    "    print(\"Compiling Onions........\")\n",
    "    compile_onions()"
   ]
  },
  {
   "cell_type": "markdown",
   "metadata": {},
   "source": [
    "#### Site Counter"
   ]
  },
  {
   "cell_type": "code",
   "execution_count": null,
   "metadata": {},
   "outputs": [],
   "source": [
    "import csv # Output and input format\n",
    "import tldextract # Find site domain\n",
    "from urllib.parse import urlparse # Find domain\n",
    "from glob import glob # To find all files in specified directory\n",
    "from multiprocessing import Pool, cpu_count # To utilize multiple processors to speed up the script\n",
    "from subprocess import Popen, PIPE # Make the script universal\n",
    "from sys import platform # Determine system\n",
    "from collections import defaultdict\n",
    "from os import remove\n",
    "\n",
    "# Determine OS and number of processes to use\n",
    "def os_processes():\n",
    "    MAX_PROCESSES = 0\n",
    "    if platform == \"linux\" or platform == \"linux2\":\n",
    "        # linux\n",
    "        bashCommand = \"nproc\"\n",
    "        process = Popen(bashCommand.split(), stdout=PIPE)\n",
    "        output, error = process.communicate()\n",
    "        MAX_PROCESSES = int(output.decode().strip())\n",
    "    elif platform == \"darwin\":\n",
    "        # OS X\n",
    "        bashCommand = \"nproc\"\n",
    "        process = Popen(bashCommand.split(), stdout=PIPE)\n",
    "        output, error = process.communicate()\n",
    "        MAX_PROCESSES = int(output.decode().strip())\n",
    "    elif platform == \"win32\":\n",
    "        # Windows\n",
    "        MAX_PROCESSES = cpu_count()\n",
    "    return MAX_PROCESSES\n",
    "\n",
    "# Initial Counter\n",
    "def init_sites(filename):\n",
    "    file_onions = {}\n",
    "    with open(filename, 'r') as f:\n",
    "        reader = csv.reader(f, quotechar='\"', delimiter=',',\n",
    "                     quoting=csv.QUOTE_ALL, skipinitialspace=True)\n",
    "        next(reader)\n",
    "        with open(\"initialized_site_data.csv\", 'a+', newline='') as output:\n",
    "            writer = csv.writer(output)\n",
    "            for line in reader:\n",
    "                url = line[0].lower()\n",
    "                extracted = tldextract.extract(url)\n",
    "                site = \"{}.{}\".format(extracted.domain, extracted.suffix)\n",
    "                onion_url = line[1].lower()\n",
    "                onion = urlparse(\"http://\"+onion_url).netloc\n",
    "                file_onions.setdefault(site, []).append(onion)\n",
    "            for k,v in file_onions.items():\n",
    "                writer.writerow([k, v,])\n",
    "    remove(\"initialized_site_data.csv\")\n",
    "\n",
    "# Mid-Counter\n",
    "def mid_sites(filename):\n",
    "    mid_sites = defaultdict(set)\n",
    "    with open(filename, 'r') as f:\n",
    "        reader = csv.reader(f)\n",
    "        with open(\"initial_site_counts.csv\", 'a+', newline='') as output:\n",
    "            writer = csv.writer(output)\n",
    "            for line in reader:\n",
    "                site = line[0]\n",
    "                onion = line[1]\n",
    "                mid_sites[site].add(onion)\n",
    "            for k,v in mid_sites.items():\n",
    "                writer.writerow([k,len(v)])\n",
    "\n",
    "# Final Counter\n",
    "def final_sites(filename):\n",
    "    sorted_sites = []\n",
    "    with open(filename, 'r') as f:\n",
    "        reader = csv.reader(f, delimiter=',')\n",
    "        sorted_sites = sorted(reader, key=lambda x: int(x[1]), reverse=True)\n",
    "        with open(\"site_counts.csv\", 'a+', newline='') as output:\n",
    "            writer = csv.writer(output)\n",
    "            for x in sorted_sites:\n",
    "                writer.writerow([x[0], x[1]])\n",
    "    remove(\"initial_site_counts.csv\")\n",
    "\n",
    "if __name__ == \"__main__\":\n",
    "    files = glob(\"*.csv\")\n",
    "    processors = os_processes()\n",
    "    print(\"Initializing Sites........\")\n",
    "    pool = Pool(processors)\n",
    "    pool.map(init_sites, files)\n",
    "    pool.close()\n",
    "    print(\"Initial Site Count........\")\n",
    "    mid_sites('initialized_site_data.csv')\n",
    "    print(\"Final Site Count........\")\n",
    "    final_sites('initial_site_counts.csv')\n"
   ]
  },
  {
   "cell_type": "markdown",
   "metadata": {},
   "source": [
    "### Attempt 2"
   ]
  },
  {
   "cell_type": "markdown",
   "metadata": {},
   "source": [
    "#### Onion Counter"
   ]
  },
  {
   "cell_type": "code",
   "execution_count": null,
   "metadata": {},
   "outputs": [],
   "source": [
    "import csv # Output and input format\n",
    "from urllib.parse import urlparse # Find domain\n",
    "from glob import glob # To find all files in specified directory\n",
    "from multiprocessing import Pool, cpu_count # To utilize multiple processors to speed up the script\n",
    "from subprocess import Popen, PIPE # Make the script universal\n",
    "from sys import platform # Determine system\n",
    "from os import remove # Clean up after counting\n",
    "\n",
    "# Determine OS and number of processes to use\n",
    "def os_processes():\n",
    "    MAX_PROCESSES = 0\n",
    "    if platform == \"linux\" or platform == \"linux2\":\n",
    "        # linux\n",
    "        bashCommand = \"nproc\"\n",
    "        process = Popen(bashCommand.split(), stdout=PIPE)\n",
    "        output, error = process.communicate()\n",
    "        MAX_PROCESSES = int(output.decode().strip())\n",
    "    elif platform == \"darwin\":\n",
    "        # OS X\n",
    "        bashCommand = \"nproc\"\n",
    "        process = Popen(bashCommand.split(), stdout=PIPE)\n",
    "        output, error = process.communicate()\n",
    "        MAX_PROCESSES = int(output.decode().strip())\n",
    "    elif platform == \"win32\":\n",
    "        # Windows\n",
    "        MAX_PROCESSES = cpu_count()\n",
    "    return MAX_PROCESSES\n",
    "\n",
    "# Initial Counter\n",
    "def init_onions(filename):\n",
    "    file_onions = {}\n",
    "    with open(filename, 'r') as f:\n",
    "        reader = csv.reader(f, quotechar='\"', delimiter=',',\n",
    "                     quoting=csv.QUOTE_ALL, skipinitialspace=True)\n",
    "        next(reader)\n",
    "        with open(\"initial_counts.csv\", 'a+', newline='') as output:\n",
    "            with open(\"dump.csv\", 'a+', newline='') as dump:\n",
    "                output_writer = csv.writer(output)\n",
    "                dump_writer = csv.writer(dump)\n",
    "                for line in reader:\n",
    "                    dump_writer.writerow([line[1], line[0]])\n",
    "                    site = line[0]\n",
    "                    onion_url = line[1]\n",
    "                    onion = urlparse(\"http://\"+onion_url).netloc\n",
    "                    file_onions.setdefault(onion, []).append(site)\n",
    "                for k,v in file_onions.items():\n",
    "                    output_writer.writerow([k, len(v)])\n",
    "\n",
    "# Mid-Counter\n",
    "def mid_onions(filename):\n",
    "    init_mid_onions = []\n",
    "    domains = []\n",
    "    mid_onions = {}\n",
    "    with open(filename, 'r') as f:\n",
    "        reader = csv.reader(f)\n",
    "        with open(\"mid_counts.csv\", 'a+', newline='') as output:\n",
    "            writer = csv.writer(output)\n",
    "            for line in reader:\n",
    "                onion = line[0]\n",
    "                num = line[1]\n",
    "                if onion not in domains:\n",
    "                    domains.append(onion)\n",
    "                init_mid_onions.append([onion, num])\n",
    "            for d in domains:\n",
    "                count = 0\n",
    "                for p in init_mid_onions:\n",
    "                    if d == p[0]:\n",
    "                        count += int(p[1].rstrip())\n",
    "                    else:\n",
    "                        continue\n",
    "                mid_onions[d] = count\n",
    "            for k,v in mid_onions.items():\n",
    "                writer.writerow([k,v])\n",
    "\n",
    "# Final Counter\n",
    "def final_onions(filename):\n",
    "    sorted_onions = []\n",
    "    with open(filename, 'r') as f:\n",
    "        reader = csv.reader(f, delimiter=',')\n",
    "        sorted_onions = sorted(reader, key=lambda x: int(x[1]), reverse=True)\n",
    "        with open(\"final_counts.csv\", 'a+', newline='') as output:\n",
    "            writer = csv.writer(output)\n",
    "            for x in sorted_onions:\n",
    "                writer.writerow([x[0], x[1]])\n",
    "\n",
    "\n",
    "# Create the search file\n",
    "def compile_onions():\n",
    "    sorted_onions = []\n",
    "    with open('final_counts.csv', 'r') as f:\n",
    "        with open(\"onions.csv\", 'a+') as output:\n",
    "            for line in f:\n",
    "                onion = line.split(',')[0]\n",
    "                output.write(\"{}\\n\".format(onion))\n",
    "\n",
    "if __name__ == \"__main__\":\n",
    "    files = glob(\"*.csv\")\n",
    "    processors = os_processes()\n",
    "    print(\"Initial Onion Count........\")\n",
    "    pool = Pool(processors)\n",
    "    pool.map(init_onions, files)\n",
    "    pool.close()\n",
    "    print(\"Mid Onion Count........\")\n",
    "    mid_onions('initial_counts.csv')\n",
    "    remove('initial_counts.csv')\n",
    "    print(\"Final Onion Count........\")\n",
    "    final_onions('mid_counts.csv')\n",
    "    remove('mid_counts.csv')\n",
    "    print(\"Compiling Onions........\")\n",
    "    compile_onions()"
   ]
  },
  {
   "cell_type": "markdown",
   "metadata": {},
   "source": [
    "#### Site Counter"
   ]
  },
  {
   "cell_type": "code",
   "execution_count": null,
   "metadata": {},
   "outputs": [],
   "source": [
    "# Credit to Mr. Kyle King (NSA)\n",
    "\n",
    "import pandas as pd\n",
    "from urllib.parse import urlparse\n",
    "\n",
    "df = pd.read_csv(\"dump.csv\")\n",
    "\n",
    "df[\"clearweb domain\"] = df[\"url\"].apply(lambda d: urlparse(d).netloc)\n",
    "\n",
    "pairs = df.drop('url', 1).groupby([\"onion\",\"clearweb domain\"]).size()\n",
    "\n",
    "domain_counts = pairs.groupby('clearweb domain').count().sort_values(ascending=False)\n",
    "\n",
    "domain_counts.reset_index().rename(columns={0:\"unique_site\"}).to_csv(\"site_counts.csv\")"
   ]
  },
  {
   "cell_type": "markdown",
   "metadata": {},
   "source": [
    "### Attempt 3 (current) (Both in one)"
   ]
  },
  {
   "cell_type": "code",
   "execution_count": null,
   "metadata": {},
   "outputs": [],
   "source": [
    "# Credit to Mr. Kyle King (NSA)\n",
    "\n",
    "import pandas as pd\n",
    "from urllib.parse import urlparse\n",
    "\n",
    "df = pd.read_csv(\"dump.csv\")\n",
    "\n",
    "# add a domain column\n",
    "df[\"clearweb domain\"] = df[\"url\"].apply(lambda d: urlparse(d).netloc)\n",
    "\n",
    "# # create a dataframe of unique domain/onion pairs\n",
    "pairs = df.drop('url', 1).groupby([\"onion\",\"clearweb domain\"]).size()\n",
    "\n",
    "# # unique onions on each domain\n",
    "onion_counts = pairs.groupby('onion').count().sort_values(ascending=False)\n",
    "domain_counts = pairs.groupby('clearweb domain').count().sort_values(ascending=False)\n",
    "\n",
    "# # write the results\n",
    "domain_counts.reset_index().rename(columns={0:\"unique_site\"}).to_csv(\"site_counts.csv\")\n",
    "onion_counts.reset_index().rename(columns={0:\"unique_onions\"}).to_csv(\"onion_counts.csv\")"
   ]
  }
 ],
 "metadata": {
  "kernelspec": {
   "display_name": "Python 3",
   "language": "python",
   "name": "python3"
  },
  "language_info": {
   "codemirror_mode": {
    "name": "ipython",
    "version": 3
   },
   "file_extension": ".py",
   "mimetype": "text/x-python",
   "name": "python",
   "nbconvert_exporter": "python",
   "pygments_lexer": "ipython3",
   "version": "3.7.5"
  }
 },
 "nbformat": 4,
 "nbformat_minor": 4
}
